{
  "nbformat": 4,
  "nbformat_minor": 0,
  "metadata": {
    "colab": {
      "provenance": [],
      "include_colab_link": true
    },
    "kernelspec": {
      "name": "python3",
      "display_name": "Python 3"
    },
    "language_info": {
      "name": "python"
    }
  },
  "cells": [
    {
      "cell_type": "markdown",
      "metadata": {
        "id": "view-in-github",
        "colab_type": "text"
      },
      "source": [
        "<a href=\"https://colab.research.google.com/github/lAngel-DevI/analysis-of-data/blob/main/Trabajo_git.ipynb\" target=\"_parent\"><img src=\"https://colab.research.google.com/assets/colab-badge.svg\" alt=\"Open In Colab\"/></a>"
      ]
    },
    {
      "cell_type": "markdown",
      "source": [
        "# 1. Un grupo de datos con dos columnas"
      ],
      "metadata": {
        "id": "OOfbmXlvgc6q"
      }
    },
    {
      "cell_type": "code",
      "execution_count": null,
      "metadata": {
        "id": "4SETAaUialnP",
        "colab": {
          "base_uri": "https://localhost:8080/"
        },
        "outputId": "e5e54b23-b0ff-4741-fcc9-878c35e841d7"
      },
      "outputs": [
        {
          "output_type": "stream",
          "name": "stdout",
          "text": [
            "     Localizacion Provincia\n",
            "0        PROSTATA  SAN JOSE\n",
            "1        PROSTATA  SAN JOSE\n",
            "2        PROSTATA  SAN JOSE\n",
            "3        PROSTATA  SAN JOSE\n",
            "4        PROSTATA  SAN JOSE\n",
            "...           ...       ...\n",
            "1615       OVARIO     LIMON\n",
            "1616       OVARIO     LIMON\n",
            "1617       OVARIO     LIMON\n",
            "1618       OVARIO     LIMON\n",
            "1619       OVARIO     LIMON\n",
            "\n",
            "[1620 rows x 2 columns]\n"
          ]
        }
      ],
      "source": [
        "import pandas as pd\n",
        "import matplotlib.pyplot as plt\n",
        "\n",
        "df=pd.read_csv('/content/datos.csv')\n",
        "data=pd.DataFrame(df)\n",
        "\n",
        "data2Columns = data[['Localizacion','Provincia']]\n",
        "print(data2Columns)"
      ]
    },
    {
      "cell_type": "markdown",
      "source": [
        "# 2. Realizar un sort de un grupo de datos y colocar los primeros 10 (Año 2011)"
      ],
      "metadata": {
        "id": "Uesezx6Nfsum"
      }
    },
    {
      "cell_type": "code",
      "source": [
        "dataFiltered = data.loc[(data['Provincia'] == 'SAN JOSE') & (data['Localizacion'] == 'PROSTATA')]\n",
        "print (dataFiltered.sort_values(by='Tasa', ascending=False)[['Provincia','Canton','Localizacion','Tasa','Cantidad']].head(10))"
      ],
      "metadata": {
        "colab": {
          "base_uri": "https://localhost:8080/"
        },
        "id": "DnuR_Fxud8rF",
        "outputId": "2d831b31-3ac9-4cd3-9e02-ff9ab3408694"
      },
      "execution_count": null,
      "outputs": [
        {
          "output_type": "stream",
          "name": "stdout",
          "text": [
            "   Provincia         Canton Localizacion   Tasa  Cantidad\n",
            "15  SAN JOSE     TURRUBARES     PROSTATA  41.84         1\n",
            "8   SAN JOSE      SANTA ANA     PROSTATA  36.34         8\n",
            "3   SAN JOSE       PURISCAL     PROSTATA  31.73         5\n",
            "14  SAN JOSE  MONTES DE OCA     PROSTATA  30.14         8\n",
            "7   SAN JOSE     GOICOECHEA     PROSTATA  24.38        16\n",
            "10  SAN JOSE       CORONADO     PROSTATA  24.20        10\n",
            "0   SAN JOSE        CENTRAL     PROSTATA  23.86        42\n",
            "12  SAN JOSE          TIBAS     PROSTATA  23.25         7\n",
            "18  SAN JOSE  PEREZ ZELEDON     PROSTATA  16.85        11\n",
            "17  SAN JOSE     CURRIDABAT     PROSTATA  16.44         6\n"
          ]
        }
      ]
    },
    {
      "cell_type": "markdown",
      "source": [
        "# 3. Realizar un cálculo de un promedio y explicarlo.\n",
        "### * Cálculo basado en los datos del punto 2"
      ],
      "metadata": {
        "id": "zASawycpf3ve"
      }
    },
    {
      "cell_type": "code",
      "source": [
        "print(\"Media de la cantidad de personas afectadas por cáncer de próstata en la provincia de San José: \" + str(int(dataFiltered['Cantidad'].mean())))\n",
        "print(\"Media de la tasa de incidencia de cáncer de próstata en la provincia de San José: \"+str(dataFiltered['Tasa'].mean()))"
      ],
      "metadata": {
        "colab": {
          "base_uri": "https://localhost:8080/"
        },
        "id": "y1vAcUlGf7nF",
        "outputId": "d40c1d16-aa9e-4732-e91d-3621e99ecc76"
      },
      "execution_count": null,
      "outputs": [
        {
          "output_type": "stream",
          "name": "stdout",
          "text": [
            "Media de la cantidad de personas afectadas por cáncer de próstata en la provincia de San José: 7\n",
            "Media de la tasa de incidencia de cáncer de próstata en la provincia de San José: 16.6325\n"
          ]
        }
      ]
    },
    {
      "cell_type": "code",
      "source": [
        "from google.colab import auth\n",
        "auth.authenticate_user()\n",
        "print('Authenticated')"
      ],
      "metadata": {
        "colab": {
          "base_uri": "https://localhost:8080/"
        },
        "id": "KidYbY5PjEYM",
        "outputId": "2a5690d5-398f-4873-ba26-fd3f119df2ff"
      },
      "execution_count": null,
      "outputs": [
        {
          "output_type": "stream",
          "name": "stdout",
          "text": [
            "Authenticated\n"
          ]
        }
      ]
    }
  ]
}